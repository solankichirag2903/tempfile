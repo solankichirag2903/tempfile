{
 "cells": [
  {
   "cell_type": "code",
   "execution_count": null,
   "id": "4b6a42ac",
   "metadata": {},
   "outputs": [],
   "source": []
  }
 ],
 "metadata": {
  "kernelspec": {
   "display_name": "ml_project_venv",
   "language": "python",
   "name": "ml_project_venv"
  }
 },
 "nbformat": 4,
 "nbformat_minor": 5
}
