{
 "cells": [
  {
   "cell_type": "markdown",
   "id": "8c739c91",
   "metadata": {},
   "source": [
    "# conert string to the list"
   ]
  },
  {
   "cell_type": "code",
   "execution_count": 1,
   "id": "065bf774",
   "metadata": {},
   "outputs": [],
   "source": [
    "string =\"my name is chirag solanki and i am going to learn python interview questions\""
   ]
  },
  {
   "cell_type": "code",
   "execution_count": 6,
   "id": "debf7201",
   "metadata": {},
   "outputs": [
    {
     "data": {
      "text/plain": [
       "['my',\n",
       " 'name',\n",
       " 'is',\n",
       " 'chirag',\n",
       " 'solanki',\n",
       " 'and',\n",
       " 'i',\n",
       " 'am',\n",
       " 'going',\n",
       " 'to',\n",
       " 'learn',\n",
       " 'python',\n",
       " 'interview',\n",
       " 'questions']"
      ]
     },
     "execution_count": 6,
     "metadata": {},
     "output_type": "execute_result"
    }
   ],
   "source": [
    "string.split()"
   ]
  },
  {
   "cell_type": "code",
   "execution_count": 15,
   "id": "ad54cb10",
   "metadata": {},
   "outputs": [
    {
     "data": {
      "text/plain": [
       "'my name is chirag solanki and i am going to learn python interview questions'"
      ]
     },
     "execution_count": 15,
     "metadata": {},
     "output_type": "execute_result"
    }
   ],
   "source": [
    "string"
   ]
  },
  {
   "cell_type": "markdown",
   "id": "2cc7f0b5",
   "metadata": {},
   "source": [
    "# 2. remove duplicate char"
   ]
  },
  {
   "cell_type": "code",
   "execution_count": 13,
   "id": "d14b6946",
   "metadata": {},
   "outputs": [
    {
     "name": "stdout",
     "output_type": "stream",
     "text": [
      "my naeischrgolkdtpvwqu\n"
     ]
    }
   ],
   "source": [
    "empty_striing=\"\"\n",
    "for i in string:\n",
    "    if i not in empty_striing:\n",
    "        empty_striing=empty_striing+i\n",
    "       \n",
    "print(empty_striing)"
   ]
  },
  {
   "cell_type": "code",
   "execution_count": 14,
   "id": "ce868195",
   "metadata": {},
   "outputs": [
    {
     "name": "stdout",
     "output_type": "stream",
     "text": [
      "my naeischrgolkdtpvwqu\n"
     ]
    }
   ],
   "source": [
    "print(empty_striing)"
   ]
  },
  {
   "cell_type": "markdown",
   "id": "c1b7519f",
   "metadata": {},
   "source": [
    "# 3. reverse the given string"
   ]
  },
  {
   "cell_type": "code",
   "execution_count": 17,
   "id": "4e5bc543",
   "metadata": {},
   "outputs": [],
   "source": [
    "string=\"ineuron intelligence\""
   ]
  },
  {
   "cell_type": "code",
   "execution_count": 19,
   "id": "e2fb9b59",
   "metadata": {},
   "outputs": [
    {
     "data": {
      "text/plain": [
       "'ecnegilletni norueni'"
      ]
     },
     "execution_count": 19,
     "metadata": {},
     "output_type": "execute_result"
    }
   ],
   "source": [
    "string[::-1]"
   ]
  },
  {
   "cell_type": "code",
   "execution_count": 20,
   "id": "e53ec4e3",
   "metadata": {},
   "outputs": [],
   "source": [
    "empty=\"\"\n",
    "for i in string:\n",
    "    empty=i+empty"
   ]
  },
  {
   "cell_type": "code",
   "execution_count": 21,
   "id": "6111592c",
   "metadata": {},
   "outputs": [
    {
     "data": {
      "text/plain": [
       "'ecnegilletni norueni'"
      ]
     },
     "execution_count": 21,
     "metadata": {},
     "output_type": "execute_result"
    }
   ],
   "source": [
    "empty"
   ]
  },
  {
   "cell_type": "code",
   "execution_count": 22,
   "id": "5d8d8a94",
   "metadata": {},
   "outputs": [
    {
     "data": {
      "text/plain": [
       "'ineuron intelligence'"
      ]
     },
     "execution_count": 22,
     "metadata": {},
     "output_type": "execute_result"
    }
   ],
   "source": [
    "string"
   ]
  },
  {
   "cell_type": "code",
   "execution_count": 25,
   "id": "1110d268",
   "metadata": {},
   "outputs": [
    {
     "name": "stdout",
     "output_type": "stream",
     "text": [
      "intelligence ineuron\n"
     ]
    }
   ],
   "source": [
    "words= string.split()\n",
    "reversed=\" \".join(words[::-1])\n",
    "print(reversed)"
   ]
  },
  {
   "cell_type": "markdown",
   "id": "2b0155a1",
   "metadata": {},
   "source": [
    "# 4 . array"
   ]
  },
  {
   "cell_type": "code",
   "execution_count": 26,
   "id": "1652a99f",
   "metadata": {},
   "outputs": [],
   "source": [
    "import numpy as np"
   ]
  },
  {
   "cell_type": "code",
   "execution_count": 32,
   "id": "20a19220",
   "metadata": {},
   "outputs": [
    {
     "data": {
      "text/plain": [
       "numpy.ndarray"
      ]
     },
     "execution_count": 32,
     "metadata": {},
     "output_type": "execute_result"
    }
   ],
   "source": [
    "type(np.array([1,2,3,4,5]))"
   ]
  },
  {
   "cell_type": "code",
   "execution_count": 35,
   "id": "4f9e40a0",
   "metadata": {},
   "outputs": [],
   "source": [
    "arr=np.array([1,2,3,4,5])"
   ]
  },
  {
   "cell_type": "code",
   "execution_count": 36,
   "id": "0d373f4c",
   "metadata": {},
   "outputs": [
    {
     "data": {
      "text/plain": [
       "array([1, 2, 3, 4, 5])"
      ]
     },
     "execution_count": 36,
     "metadata": {},
     "output_type": "execute_result"
    }
   ],
   "source": [
    "arr"
   ]
  },
  {
   "cell_type": "code",
   "execution_count": 37,
   "id": "8dfd24b0",
   "metadata": {},
   "outputs": [
    {
     "data": {
      "text/plain": [
       "array([5, 4, 3, 2, 1])"
      ]
     },
     "execution_count": 37,
     "metadata": {},
     "output_type": "execute_result"
    }
   ],
   "source": [
    "arr[::-1]"
   ]
  },
  {
   "cell_type": "markdown",
   "id": "47d7f44d",
   "metadata": {},
   "source": [
    "# sort the given list"
   ]
  },
  {
   "cell_type": "code",
   "execution_count": 38,
   "id": "e058599d",
   "metadata": {},
   "outputs": [],
   "source": [
    "mylist=[1,22,2,3,44,5,56,6]\n",
    "def bubble_sort(mylist):\n",
    "    print(mylist)"
   ]
  },
  {
   "cell_type": "code",
   "execution_count": 39,
   "id": "f1de9390",
   "metadata": {},
   "outputs": [
    {
     "data": {
      "text/plain": [
       "[1, 22, 2, 3, 44, 5, 56, 6]"
      ]
     },
     "execution_count": 39,
     "metadata": {},
     "output_type": "execute_result"
    }
   ],
   "source": [
    "mylist"
   ]
  },
  {
   "cell_type": "raw",
   "id": "d8538605",
   "metadata": {},
   "source": []
  },
  {
   "cell_type": "code",
   "execution_count": null,
   "id": "14dc5535",
   "metadata": {},
   "outputs": [],
   "source": []
  },
  {
   "cell_type": "code",
   "execution_count": null,
   "id": "b60a0cf0",
   "metadata": {},
   "outputs": [],
   "source": []
  },
  {
   "cell_type": "code",
   "execution_count": null,
   "id": "d255be39",
   "metadata": {},
   "outputs": [],
   "source": []
  },
  {
   "cell_type": "code",
   "execution_count": null,
   "id": "1f5ec408",
   "metadata": {},
   "outputs": [],
   "source": []
  }
 ],
 "metadata": {
  "kernelspec": {
   "display_name": "Python 3 (ipykernel)",
   "language": "python",
   "name": "python3"
  },
  "language_info": {
   "codemirror_mode": {
    "name": "ipython",
    "version": 3
   },
   "file_extension": ".py",
   "mimetype": "text/x-python",
   "name": "python",
   "nbconvert_exporter": "python",
   "pygments_lexer": "ipython3",
   "version": "3.11.5"
  }
 },
 "nbformat": 4,
 "nbformat_minor": 5
}
